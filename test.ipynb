{
 "cells": [
  {
   "cell_type": "code",
   "execution_count": 1,
   "metadata": {},
   "outputs": [],
   "source": [
    "%matplotlib inline\n",
    "import matplotlib\n",
    "matplotlib.rcParams[\"figure.figsize\"] = 20, 10"
   ]
  },
  {
   "cell_type": "code",
   "execution_count": 2,
   "metadata": {},
   "outputs": [],
   "source": [
    "from data_preprocsssing import *\n",
    "from pricing_models import *\n",
    "from hedging_strategies import *\n",
    "from volatility_models import WingModel\n",
    "from utils import pool_init\n",
    "import numpy as np\n",
    "import pandas as pd"
   ]
  },
  {
   "cell_type": "code",
   "execution_count": 3,
   "metadata": {},
   "outputs": [],
   "source": [
    "pool = pool_init()"
   ]
  },
  {
   "cell_type": "code",
   "execution_count": null,
   "metadata": {},
   "outputs": [],
   "source": [
    "d_df, d_tkr2info = load_derivatives_df_n_cast()\n",
    "d_op_df, u_op_df, d_cp_df, u_cp_df = get_mkt_data_minutes(d_df)\n",
    "d_t_df = add_info2p_df(d_op_df)\n",
    "\n",
    "op_iv_dct = gen_p_iv_gks_dct(d_df[\"d_code\"], d_t_df, u_op_df, d_tkr2info)\n",
    "\n",
    "# pw_mat: (inst count + 1, bars, 1)\n",
    "# pw_mat = -1 * np.ones((d_op_df.shape[1] + 1, d_op_df.shape[0], 1), dtype=float)\n",
    "# pw_mat[-1, :, 0] = 0.0\n",
    "# rsk_tgt_mat = np.zeros((d_op_df.shape[0], 3), dtype=float)\n",
    "# w_df, hr_df = calc_hedge_w_n_expo(op_iv_dct, u_op_df, pw_mat, rsk_tgt_mat, (-2,-1))\n",
    "# pw_pnl_df, hg_pnl_df = calc_portfolio_pnl(w_df, d_op_df, u_op_df, pw_mat)"
   ]
  },
  {
   "cell_type": "code",
   "execution_count": null,
   "metadata": {},
   "outputs": [],
   "source": [
    "from tqdm import tqdm"
   ]
  },
  {
   "cell_type": "code",
   "execution_count": null,
   "metadata": {},
   "outputs": [],
   "source": [
    "mat_dt_lst = d_df.lst_dt.unique().tolist()\n",
    "\n",
    "rst_lst = []\n",
    "for mdt in mat_dt_lst:\n",
    "    op_tkrs = d_df[d_df.lst_dt == pd.to_datetime(mdt)].d_code\n",
    "\n",
    "    mdl = WingModel(2.9, 2.9, vol_ref=0.5)\n",
    "\n",
    "    rst_lst = []\n",
    "    for t in tqdm(range(len(d_op_df))):\n",
    "        tdf = pd.DataFrame(data=[op_iv_dct[tkr].iloc[t, :] for tkr in op_tkrs], index=op_tkrs).loc[:, [\"K\", \"mkt_iv\", \"tp\"]]\n",
    "        tdf.sort_values(\"K\", inplace=True)\n",
    "\n",
    "        cdf = tdf[tdf.tp == \"c\"].dropna()\n",
    "        pdf = tdf[tdf.tp == \"p\"].dropna()\n",
    "\n",
    "        cdf[\"pos\"] = cdf.mkt_iv.values - mdl.fit(cdf.mkt_iv.values, cdf.K.values).predict(cdf.K.values)\n",
    "        pdf[\"pos\"] = pdf.mkt_iv.values - mdl.fit(pdf.mkt_iv.values, pdf.K.values).predict(pdf.K.values)\n",
    "\n",
    "        tdf[\"pos\"] = cdf[\"pos\"].append(pdf[\"pos\"])\n",
    "        rst_lst.append(tdf)\n",
    "    \n",
    "    break"
   ]
  },
  {
   "cell_type": "code",
   "execution_count": null,
   "metadata": {},
   "outputs": [],
   "source": []
  }
 ],
 "metadata": {
  "kernelspec": {
   "display_name": "Python 3",
   "language": "python",
   "name": "python3"
  },
  "language_info": {
   "codemirror_mode": {
    "name": "ipython",
    "version": 3
   },
   "file_extension": ".py",
   "mimetype": "text/x-python",
   "name": "python",
   "nbconvert_exporter": "python",
   "pygments_lexer": "ipython3",
   "version": "3.8.3"
  }
 },
 "nbformat": 4,
 "nbformat_minor": 4
}
